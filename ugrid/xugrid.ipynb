{
 "cells": [
  {
   "cell_type": "markdown",
   "id": "4d994f5b-de63-4ce7-b9dc-2b988715aadc",
   "metadata": {},
   "source": [
    "## installation\n",
    "\n",
    "change to directory icon4py (directory root)\n",
    "activate virtual env\n",
    "```\n",
    "pip install xugrid\n",
    "pip install pymetis\n",
    "```\n",
    "change to `model/common/src/icon4py/model/common/decomposition/"
   ]
  },
  {
   "cell_type": "code",
   "execution_count": 1,
   "id": "c8c27003-bf60-48cd-bcb7-2f4d357027d6",
   "metadata": {},
   "outputs": [],
   "source": [
    "import xugrid as xu\n",
    "import functools as ft\n",
    "from matplotlib import pyplot as plt\n",
    "import numpy as np\n",
    "import scipy as sp\n"
   ]
  },
  {
   "cell_type": "code",
   "execution_count": 2,
   "id": "46e0c05c-b0f1-4ba3-869d-d90312807c5a",
   "metadata": {},
   "outputs": [
    {
     "name": "stdout",
     "output_type": "stream",
     "text": [
      "loaded dataset <class 'xugrid.core.wrap.UgridDataset'>\n",
      "loaded dataset <class 'xugrid.core.dataset_accessor.UgridDatasetAccessor'>\n",
      "---------------------------\n",
      " ---- dimensions of entire dataset: FrozenMappingWarningOnValuesAccess({'cell': 20480, 'nv': 3, 'vertex': 10242, 'ne': 6, 'edge': 30720, 'no': 4, 'nc': 2, 'two_grf': 2, 'cell_grf': 14, 'max_chdom': 1, 'edge_grf': 24, 'vert_grf': 13, 'vert_delaunay': 3, 'cell_delaunay': 40956})\n",
      "---------------------------\n",
      " ---- grid property: \n",
      " ---- type of accessor's grid: ugrid.grid <class 'xugrid.ugrid.ugrid2d.Ugrid2d'>\n",
      " ---- grid: <xarray.Dataset> Size: 3MB\n",
      "Dimensions:                (cell: 20480, nv: 3, edge: 30720, nc: 2,\n",
      "                            vertex: 10242)\n",
      "Coordinates:\n",
      "    vlon                   (vertex) float64 82kB ...\n",
      "    vlat                   (vertex) float64 82kB ...\n",
      "    clon                   (cell) float64 164kB ...\n",
      "    clat                   (cell) float64 164kB ...\n",
      "    elon                   (edge) float64 246kB ...\n",
      "    elat                   (edge) float64 246kB ...\n",
      "Dimensions without coordinates: cell, nv, edge, nc, vertex\n",
      "Data variables:\n",
      "    mesh                   int64 8B ...\n",
      "    vertex_of_cell         (cell, nv) float64 492kB 0.0 1.0 ... 4.748e+03\n",
      "    edge_vertices          (edge, nc) float64 492kB 0.0 1.0 ... 9.477e+03\n",
      "    edge_of_cell           (cell, nv) float64 492kB ...\n",
      "    neighbor_cell_index    (cell, nv) float64 492kB ...\n",
      "    adjacent_cell_of_edge  (edge, nc) float64 492kB ...\n",
      "Attributes: (12/21)\n",
      "    title:                ICON grid description\n",
      "    history:              /e/uhome/dreinert/icon/build/sx9\n",
      "    institution:          Max Planck Institute for Meteorology/Deutscher Wett...\n",
      "    source:               icon-dev\n",
      "    uuidOfHGrid:          af122aca-1dd2-11b2-a7f8-c7bf6bc21eba\n",
      "    number_of_grid_used:  13\n",
      "    ...                   ...\n",
      "    inverse_flattening:   0.0\n",
      "    grid_level:           4\n",
      "    grid_root:            2\n",
      "    grid_ID:              0\n",
      "    parent_grid_ID:       -1\n",
      "    max_childdom:         1\n"
     ]
    },
    {
     "name": "stderr",
     "output_type": "stream",
     "text": [
      "/home/magdalena/Projects/exclaim/icon4py/.venv/lib/python3.10/site-packages/xugrid/ugrid/conventions.py:203: UserWarning: No standard_name of ('projection_x_coordinate', 'longitude', 'projection_y_coordinate', 'latitude') in ['vlon', 'vlat'].\n",
      "Using vlon and vlat as projected x and y coordinates.\n",
      "  warnings.warn(\n",
      "/home/magdalena/Projects/exclaim/icon4py/.venv/lib/python3.10/site-packages/xugrid/ugrid/conventions.py:203: UserWarning: No standard_name of ('projection_x_coordinate', 'longitude', 'projection_y_coordinate', 'latitude') in ['clon', 'clat'].\n",
      "Using clon and clat as projected x and y coordinates.\n",
      "  warnings.warn(\n",
      "/home/magdalena/Projects/exclaim/icon4py/.venv/lib/python3.10/site-packages/xugrid/ugrid/conventions.py:203: UserWarning: No standard_name of ('projection_x_coordinate', 'longitude', 'projection_y_coordinate', 'latitude') in ['elon', 'elat'].\n",
      "Using elon and elat as projected x and y coordinates.\n",
      "  warnings.warn(\n"
     ]
    }
   ],
   "source": [
    "#load the data set \n",
    "\n",
    "ds = xu.open_dataset('data/icon_grid_0013_R02B04_R_ugrid.nc')\n",
    "grid = ds.ugrid.grid\n",
    "print(f\"loaded dataset {type(ds)}\")\n",
    "print(f\"loaded dataset {type(ds.ugrid)}\")\n",
    "\n",
    "print(\"---------------------------\")\n",
    "print(f\" ---- dimensions of entire dataset: {ds.dims}\")\n",
    "print(\"---------------------------\")\n",
    "print(\" ---- grid property: \")\n",
    "print(f\" ---- type of accessor's grid: ugrid.grid {type(grid)}\")\n",
    "print(f\" ---- grid: {grid}\")\n",
    "\n"
   ]
  },
  {
   "cell_type": "code",
   "execution_count": 3,
   "id": "9095ba0e-f90a-4e71-a33e-7e234fad5b00",
   "metadata": {},
   "outputs": [
    {
     "name": "stdout",
     "output_type": "stream",
     "text": [
      "--- type(meshes)= <class 'list'>\n",
      "--- single partition: type of list entry:<class 'xugrid.core.wrap.UgridDataset'>\n",
      "--- single partition: type of list ugrid:<class 'xugrid.core.dataset_accessor.UgridDatasetAccessor'>\n",
      "--- single partition: grid <xarray.Dataset> Size: 290kB\n",
      "Dimensions:         (cell: 5120, mesh_nMax_face_nodes: 3, edge: 7770, two: 2,\n",
      "                     vertex: 2651)\n",
      "Coordinates:\n",
      "    vlon            (vertex) float64 21kB 0.6283 1.257 1.885 ... 1.054 1.125\n",
      "    vlat            (vertex) float64 21kB 1.54 1.517 1.54 ... -1.026 -1.013\n",
      "Dimensions without coordinates: cell, mesh_nMax_face_nodes, edge, two, vertex\n",
      "Data variables:\n",
      "    mesh            int64 8B 0\n",
      "    vertex_of_cell  (cell, mesh_nMax_face_nodes) int64 123kB 0 3 1 ... 2488 2650\n",
      "    edge_vertices   (edge, two) int64 124kB 0 2 0 3 1 ... 2482 2650 2482 2488\n",
      "Attributes:\n",
      "    Conventions:  CF-1.9 UGRID-1.0\n"
     ]
    }
   ],
   "source": [
    "# decomposes the unstructured grid into 4 parts: \n",
    "# returns a list of n_part \n",
    "partitions = ds.ugrid.partition(n_part=4)\n",
    "print(f\"--- type(meshes)= {type(partitions)}\")\n",
    "part0 = partitions[0]\n",
    "print(f\"--- single partition: type of list entry:{type(part0)}\")\n",
    "print(f\"--- single partition: type of list ugrid:{type(part0.ugrid)}\")\n",
    "\n",
    "print(f\"--- single partition: grid {part0.grid}\")"
   ]
  },
  {
   "cell_type": "code",
   "execution_count": 4,
   "id": "9c0c77c2-c100-4d6b-a458-07f20c985849",
   "metadata": {},
   "outputs": [
    {
     "data": {
      "text/plain": [
       "5120"
      ]
     },
     "execution_count": 4,
     "metadata": {},
     "output_type": "execute_result"
    }
   ],
   "source": [
    "\n",
    "INVALID = -1 \n",
    "horizontal_dims = [\"cell\", \"edge\", \"vertex\"]\n",
    "part0.sizes[\"cell\"]\n",
    "\n",
    "    \n",
    "\n",
    "\n",
    "\n",
    "    \n"
   ]
  },
  {
   "cell_type": "code",
   "execution_count": 5,
   "id": "3d99bf6c-1bda-4d22-8234-c41357c7856e",
   "metadata": {},
   "outputs": [
    {
     "name": "stdout",
     "output_type": "stream",
     "text": [
      " matching: ds cell size 20480 = 20480 (partition sum) ([5120, 5120, 5120, 5120])\n",
      " NON MATCHING: edge: ds edge size 30720 != 31103 (partition sum)([7770, 7774, 7781, 7778]): difference = 383 \n",
      " NON MATCHING: vertex: ds vertex size 10242 != 10627 (partition sum)([2651, 2655, 2662, 2659]): difference = 385 \n"
     ]
    }
   ],
   "source": [
    "\n",
    "def inspect_sizes(ds, patches, dim_names):\n",
    "    for d in dim_names:\n",
    "        original = ds.sizes[d]\n",
    "        _, summed = total_sizes(patches, d)\n",
    "        sizes = list(map(lambda p: p.sizes[d], patches))\n",
    "        if ds.sizes[d] == summed:\n",
    "            print(f\" matching: ds {d} size {original} = {summed} (partition sum) ({sizes})\")\n",
    "\n",
    "        else:\n",
    "            \n",
    "          print(f\" NON MATCHING: {d}: ds {d} size {original} != {summed} (partition sum)({sizes}): difference = {summed - original} \")\n",
    "\n",
    "\n",
    "            \n",
    "def total_sizes(patches, dim_name):    \n",
    "    size = ft.reduce(lambda a, b: a + b, map(lambda p: p.sizes[dim_name], patches))\n",
    "    return dim_name, size\n",
    "\n",
    "inspect_sizes(ds, partitions, horizontal_dims)"
   ]
  },
  {
   "cell_type": "code",
   "execution_count": 6,
   "id": "7a7d2e64-0f63-4ee9-a115-c2a669b0aee7",
   "metadata": {},
   "outputs": [
    {
     "data": {
      "text/plain": [
       "<xarray.Dataset> Size: 290kB\n",
       "Dimensions:         (cell: 5120, mesh_nMax_face_nodes: 3, edge: 7770, two: 2,\n",
       "                     vertex: 2651)\n",
       "Coordinates:\n",
       "    vlon            (vertex) float64 21kB 0.6283 1.257 1.885 ... 1.054 1.125\n",
       "    vlat            (vertex) float64 21kB 1.54 1.517 1.54 ... -1.026 -1.013\n",
       "Dimensions without coordinates: cell, mesh_nMax_face_nodes, edge, two, vertex\n",
       "Data variables:\n",
       "    mesh            int64 8B 0\n",
       "    vertex_of_cell  (cell, mesh_nMax_face_nodes) int64 123kB 0 3 1 ... 2488 2650\n",
       "    edge_vertices   (edge, two) int64 124kB 0 2 0 3 1 ... 2482 2650 2482 2488\n",
       "Attributes:\n",
       "    Conventions:  CF-1.9 UGRID-1.0"
      ]
     },
     "execution_count": 6,
     "metadata": {},
     "output_type": "execute_result"
    }
   ],
   "source": [
    "#inspect boundaries\n",
    "grid0 = part0.ugrid.grid\n",
    "grid0\n"
   ]
  },
  {
   "cell_type": "code",
   "execution_count": 7,
   "id": "58e09d6d-5bff-4cb9-a1b6-3b4e43d6ea52",
   "metadata": {},
   "outputs": [
    {
     "data": {
      "text/plain": [
       "array([[   1,   -1],\n",
       "       [   0,   -1],\n",
       "       [   0,   10],\n",
       "       ...,\n",
       "       [5117, 5119],\n",
       "       [5118, 5119],\n",
       "       [5119,   -1]])"
      ]
     },
     "execution_count": 7,
     "metadata": {},
     "output_type": "execute_result"
    }
   ],
   "source": [
    "grid0.edge_face_connectivity"
   ]
  },
  {
   "cell_type": "code",
   "execution_count": 8,
   "id": "d4468f5a-215f-45b9-8a48-99ac81ab2fc6",
   "metadata": {},
   "outputs": [
    {
     "data": {
      "text/plain": [
       "(7770, 2)"
      ]
     },
     "execution_count": 8,
     "metadata": {},
     "output_type": "execute_result"
    }
   ],
   "source": [
    "grid0.edge_face_connectivity.shape"
   ]
  },
  {
   "cell_type": "code",
   "execution_count": 9,
   "id": "d472ef8d-68aa-4bca-9eb9-229701bc931a",
   "metadata": {},
   "outputs": [
    {
     "data": {
      "text/plain": [
       "array([   0,    1,    7,   10,   28, 1583, 1593, 1595, 1665, 1669, 1808,\n",
       "       1862, 1868, 1872, 1874, 1875, 1882, 1890, 1892, 1895, 2314, 2315,\n",
       "       2316, 2319, 2367, 2368, 2369, 2399, 2433, 2434, 2445, 2447, 2533,\n",
       "       2538, 2546, 2548, 2552, 2555, 2557, 2558, 2559, 2562, 2564, 2568,\n",
       "       2570, 2573, 2578, 2586, 2590, 2596, 2597, 2612, 2622, 2624, 2632,\n",
       "       2646, 2649, 2669, 2672, 2697, 2701, 2730, 2734, 2736, 2738, 2768,\n",
       "       2769, 4380, 4381, 4382, 4412, 4431, 4436, 4438, 4440, 4446, 4460,\n",
       "       4462, 4463, 4464, 4467, 4468, 4472, 4475, 4476, 4483, 4841, 4926,\n",
       "       4938, 4940, 4941, 4944, 4946, 4950, 4952, 5328, 5673, 5675, 5697,\n",
       "       5700, 5702, 5703, 5704, 5714, 5720, 5723, 5727, 5728, 5735, 5787,\n",
       "       5790, 5796, 5826, 5827, 6060, 6063, 6064, 6066, 6159, 6160, 6163,\n",
       "       6168, 6178, 6186, 6188, 6199, 6399, 6400, 6419, 6423, 6464, 6476,\n",
       "       6481, 6482, 6609, 6610, 6611, 6614, 6658, 6663, 6675, 6677, 7054,\n",
       "       7055, 7058, 7062, 7069, 7077, 7078, 7079, 7080, 7128, 7153, 7154,\n",
       "       7156, 7162, 7258, 7262, 7264, 7265, 7268, 7278, 7636, 7638, 7643,\n",
       "       7644, 7659, 7669, 7671, 7679, 7695, 7705, 7707, 7715, 7729, 7730,\n",
       "       7731, 7751, 7759, 7769], dtype=int32)"
      ]
     },
     "execution_count": 9,
     "metadata": {},
     "output_type": "execute_result"
    }
   ],
   "source": [
    "# find boundary edges (only 1 cell neighbor) - local indices on the part0\n",
    "x, y, _ = sp.sparse.find(grid0.edge_face_connectivity == INVALID) \n",
    "x\n"
   ]
  },
  {
   "cell_type": "code",
   "execution_count": 10,
   "id": "0a44e3bc-30d3-4490-b30e-688491968ac4",
   "metadata": {},
   "outputs": [
    {
     "data": {
      "text/plain": [
       "(180,)"
      ]
     },
     "execution_count": 10,
     "metadata": {},
     "output_type": "execute_result"
    }
   ],
   "source": [
    "# neighbor cells of boundary edges in global grid: global cell index that should be in the halo of part0\n",
    "halo_cells0 = grid.edge_face_connectivity[x, y]\n",
    "halo_cells0.shape\n",
    "\n"
   ]
  },
  {
   "cell_type": "code",
   "execution_count": 11,
   "id": "3a21f17e-c324-4c45-a1b0-8ba57497501e",
   "metadata": {},
   "outputs": [
    {
     "data": {
      "text/plain": [
       "array([    2,     3,     4, ..., 20221, 20222, 20223], dtype=int32)"
      ]
     },
     "execution_count": 11,
     "metadata": {},
     "output_type": "execute_result"
    }
   ],
   "source": [
    "part0.cell_index.data"
   ]
  },
  {
   "cell_type": "code",
   "execution_count": 12,
   "id": "ec25f359-9980-4720-8e80-bedbfe1c0f4d",
   "metadata": {},
   "outputs": [
    {
     "data": {
      "text/plain": [
       "{2,\n",
       " 6,\n",
       " 9,\n",
       " 37,\n",
       " 1031,\n",
       " 1071,\n",
       " 1078,\n",
       " 1079,\n",
       " 1167,\n",
       " 1209,\n",
       " 1211,\n",
       " 1213,\n",
       " 1214,\n",
       " 1215,\n",
       " 1228,\n",
       " 1230,\n",
       " 1365,\n",
       " 1502,\n",
       " 1504,\n",
       " 1507,\n",
       " 1536,\n",
       " 1538,\n",
       " 1579,\n",
       " 1583,\n",
       " 1584,\n",
       " 1595,\n",
       " 1661,\n",
       " 1667,\n",
       " 1676,\n",
       " 1692,\n",
       " 1698,\n",
       " 1711,\n",
       " 1718,\n",
       " 1732,\n",
       " 1735,\n",
       " 1741,\n",
       " 1744,\n",
       " 1748,\n",
       " 1749,\n",
       " 1754,\n",
       " 1758,\n",
       " 1783,\n",
       " 1785,\n",
       " 1788,\n",
       " 1789,\n",
       " 1877,\n",
       " 4346,\n",
       " 4347,\n",
       " 4350,\n",
       " 4351,\n",
       " 4696,\n",
       " 4700,\n",
       " 5034,\n",
       " 5040,\n",
       " 5059,\n",
       " 5064,\n",
       " 5067,\n",
       " 5081,\n",
       " 5082,\n",
       " 5088,\n",
       " 5096,\n",
       " 5098,\n",
       " 5101,\n",
       " 5114,\n",
       " 7031,\n",
       " 9557,\n",
       " 10577}"
      ]
     },
     "execution_count": 12,
     "metadata": {},
     "output_type": "execute_result"
    }
   ],
   "source": [
    "# ?? \n",
    "set(part0.cell_index.data).intersection(set(halo_cells0))\n"
   ]
  },
  {
   "cell_type": "code",
   "execution_count": null,
   "id": "873217aa-fec0-4219-b5b6-e9c07737d9d2",
   "metadata": {},
   "outputs": [],
   "source": []
  },
  {
   "cell_type": "code",
   "execution_count": 13,
   "id": "d33bfb56-03b4-4283-9604-16486ca937c2",
   "metadata": {},
   "outputs": [
    {
     "ename": "AssertionError",
     "evalue": "",
     "output_type": "error",
     "traceback": [
      "\u001b[0;31m---------------------------------------------------------------------------\u001b[0m",
      "\u001b[0;31mAssertionError\u001b[0m                            Traceback (most recent call last)",
      "Cell \u001b[0;32mIn[13], line 4\u001b[0m\n\u001b[1;32m      2\u001b[0m \u001b[38;5;28;01mimport\u001b[39;00m \u001b[38;5;21;01mnumpy\u001b[39;00m \u001b[38;5;28;01mas\u001b[39;00m \u001b[38;5;21;01mnp\u001b[39;00m\n\u001b[1;32m      3\u001b[0m merged \u001b[38;5;241m=\u001b[39m xu\u001b[38;5;241m.\u001b[39mmerge_partitions(partitions)\n\u001b[0;32m----> 4\u001b[0m \u001b[38;5;28;01massert\u001b[39;00m  np\u001b[38;5;241m.\u001b[39mallclose(merged[\u001b[38;5;124m\"\u001b[39m\u001b[38;5;124mclat\u001b[39m\u001b[38;5;124m\"\u001b[39m], ds[\u001b[38;5;124m\"\u001b[39m\u001b[38;5;124mclat\u001b[39m\u001b[38;5;124m\"\u001b[39m])\n",
      "\u001b[0;31mAssertionError\u001b[0m: "
     ]
    }
   ],
   "source": [
    "# MERGING partitions again\n",
    "import numpy as np\n",
    "merged = xu.merge_partitions(partitions)\n",
    "assert  np.allclose(merged[\"clat\"], ds[\"clat\"])\n",
    "\n",
    "\n",
    "\n"
   ]
  },
  {
   "cell_type": "code",
   "execution_count": null,
   "id": "4ea1a3e0-9b2a-40d0-ba7d-fd2e905af1c4",
   "metadata": {},
   "outputs": [],
   "source": [
    "reordered = merged.ugrid.reindex_like(ds)\n",
    "assert np.allclose(reordered[\"clat\"], ds[\"clat\"])\n"
   ]
  },
  {
   "cell_type": "code",
   "execution_count": null,
   "id": "e42d1151-2958-495a-8e13-304bd910111d",
   "metadata": {},
   "outputs": [],
   "source": [
    "#partioning the grid only\n",
    "\n",
    "grid = ds.ugrid.grid\n",
    "grid_parts = grid.partition(n_part=4)\n",
    "\n",
    "fig, axes = plt.subplots(2, 2, figsize=(12.6, 10))\n",
    "for part, ax in zip(grid_parts, axes.ravel()):\n",
    "    part.plot(ax=ax)"
   ]
  },
  {
   "cell_type": "code",
   "execution_count": null,
   "id": "dd04223f-27cc-43a6-a750-64fa51faf81b",
   "metadata": {},
   "outputs": [],
   "source": [
    "\n",
    "\n"
   ]
  },
  {
   "cell_type": "code",
   "execution_count": null,
   "id": "2f76c624-488e-4151-b3ca-21aab8d99c1f",
   "metadata": {},
   "outputs": [],
   "source": [
    "# partitioning labels\n",
    "# returns an array which maps each cell to a partion number from [0, n_part-1]\n",
    "\n",
    "labels = ds.ugrid.grid.label_partitions(n_part=4)\n",
    "labels.ugrid.plot()\n",
    "labels"
   ]
  },
  {
   "cell_type": "code",
   "execution_count": null,
   "id": "a4ca82ab-3ff4-4bb8-9cd4-d186c319e9ff",
   "metadata": {},
   "outputs": [],
   "source": [
    "print(f\"{type(labels)}: {labels.sizes}\")"
   ]
  },
  {
   "cell_type": "code",
   "execution_count": null,
   "id": "540b39b5-be2c-4a11-94a9-063075088ced",
   "metadata": {},
   "outputs": [],
   "source": [
    "#"
   ]
  },
  {
   "cell_type": "code",
   "execution_count": null,
   "id": "0ad1b263-a3eb-4ba5-ba6c-cac17139ddc2",
   "metadata": {},
   "outputs": [],
   "source": [
    "#separate connected cmponents of a grid.\n",
    "import xugrid\n",
    "import xarray as xr\n",
    "\n",
    "grid = ds.ugrid.grid\n",
    "\n",
    "uda = xugrid.UgridDataArray(\n",
    "    xr.DataArray(np.ones(grid.node_face_connectivity.shape[0]), dims=[\"face\"]), grid\n",
    ")\n",
    "connected = uda.ugrid.connected_components()\n",
    "connected.ugrid.plot(cmap=\"ocean\")\n"
   ]
  },
  {
   "cell_type": "code",
   "execution_count": null,
   "id": "abd8a33a-b7fc-4267-a754-700fbe1153ac",
   "metadata": {},
   "outputs": [],
   "source": []
  },
  {
   "cell_type": "code",
   "execution_count": null,
   "id": "f186357c-46b6-4fea-b3f4-34b925064c1d",
   "metadata": {},
   "outputs": [],
   "source": [
    "# ds.grids returns a list with one element, which is unpacked below\n",
    "uda0 = xugrid.UgridDataArray(\n",
    "    xr.full_like(part0.obj[\"cell_area\"], True, dtype=bool),\n",
    "    part0.grid,\n",
    ")\n",
    "\n",
    "uda3 = xugrid.UgridDataArray(\n",
    "    xr.full_like(partitions[3].obj[\"cell_area\"], True, dtype=bool),\n",
    "    partitions[3].grid,\n",
    ")\n"
   ]
  },
  {
   "cell_type": "code",
   "execution_count": null,
   "id": "08667492-c71e-4953-b8b1-b05183edc6f6",
   "metadata": {},
   "outputs": [],
   "source": [
    "halo0 = uda0.ugrid.binary_erosion(2)\n",
    "halo3 = uda3.ugrid.binary_erosion(2)"
   ]
  },
  {
   "cell_type": "code",
   "execution_count": null,
   "id": "041556f4-0182-487d-828d-7308d313a0f0",
   "metadata": {},
   "outputs": [],
   "source": [
    "np.sum(~halo0)\n",
    "\n"
   ]
  },
  {
   "cell_type": "code",
   "execution_count": null,
   "id": "6601faeb-87b4-4946-94a3-ee166af586ba",
   "metadata": {},
   "outputs": [],
   "source": [
    "part0.obj[\"cell_index\"][~halo0]"
   ]
  },
  {
   "cell_type": "code",
   "execution_count": null,
   "id": "b4a7be8a-e28f-4237-adf7-e2e8854a1109",
   "metadata": {},
   "outputs": [],
   "source": [
    "fig, (ax0, ax1, ax2) = plt.subplots(ncols=3, figsize=(20, 5))\n",
    "halo0.ugrid.plot(ax=ax0)\n",
    "halo3.ugrid.plot(ax=ax1)"
   ]
  },
  {
   "cell_type": "code",
   "execution_count": null,
   "id": "fddef2cd-07f1-4acf-a5dc-52c2871fc7d7",
   "metadata": {},
   "outputs": [],
   "source": []
  }
 ],
 "metadata": {
  "kernelspec": {
   "display_name": "icon4py",
   "language": "python",
   "name": "icon4py"
  },
  "language_info": {
   "codemirror_mode": {
    "name": "ipython",
    "version": 3
   },
   "file_extension": ".py",
   "mimetype": "text/x-python",
   "name": "python",
   "nbconvert_exporter": "python",
   "pygments_lexer": "ipython3",
   "version": "3.10.12"
  }
 },
 "nbformat": 4,
 "nbformat_minor": 5
}
